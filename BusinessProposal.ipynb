{
 "cells": [
  {
   "cell_type": "markdown",
   "metadata": {},
   "source": [
    "## Business Proposal \n",
    "## The Battle of Neighborhoods"
   ]
  },
  {
   "cell_type": "markdown",
   "metadata": {},
   "source": [
    "### Problem Statement:\n",
    "This Project aims to give new citizens of a city a clear understanding where to settle and start their life in a new city. This project caters for the following things for a person:\n",
    "1. House Prices, location and size.\n",
    "2. Schools Fees, location and reviews.\n",
    "3. Restaurants, Grocery Shops, Hospitals, Malls Rating and locations."
   ]
  },
  {
   "cell_type": "markdown",
   "metadata": {},
   "source": [
    "### Location/City:\n",
    "The city of choice for this project is Toronto, Canada. Toronto is the capital city of Canada and a bustling hub. The city is known for its diversity in terms of people belonging to different races and religions. The level of immigration is comparatively way higher than other major cities in the world because of the citizen rights, jobs, low crime rate etc."
   ]
  },
  {
   "cell_type": "markdown",
   "metadata": {},
   "source": [
    "### FourSquare API:\n",
    "The FourSquare API will be used for data collection purposes because of its efficient way of searching databases and provding clean data to work with."
   ]
  },
  {
   "cell_type": "markdown",
   "metadata": {},
   "source": [
    "### Machine Learing Approach:\n",
    "For comparison between cities and all of the aforementioned places. An efficient algorithm will be used. For this project, K Means clustering will be used as the primary unsupervised machine learning approach."
   ]
  },
  {
   "cell_type": "markdown",
   "metadata": {},
   "source": [
    "## Programming Libraries:\n",
    "1. Pandas\n",
    "2. Numpy\n",
    "3. Folium \n",
    "4. Scikit Learn\n",
    "5. Matplotlib\n",
    "6. Geocoder "
   ]
  }
 ],
 "metadata": {
  "kernelspec": {
   "display_name": "Python 3",
   "language": "python",
   "name": "python3"
  },
  "language_info": {
   "codemirror_mode": {
    "name": "ipython",
    "version": 3
   },
   "file_extension": ".py",
   "mimetype": "text/x-python",
   "name": "python",
   "nbconvert_exporter": "python",
   "pygments_lexer": "ipython3",
   "version": "3.8.3"
  }
 },
 "nbformat": 4,
 "nbformat_minor": 4
}
