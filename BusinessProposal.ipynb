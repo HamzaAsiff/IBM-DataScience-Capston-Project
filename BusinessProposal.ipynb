{
 "cells": [
  {
   "cell_type": "markdown",
   "metadata": {},
   "source": [
    "## Business Proposal \n",
    "## The Battle of Neighborhoods\n",
    "## Staten Island, New York City Analysis"
   ]
  },
  {
   "cell_type": "markdown",
   "metadata": {},
   "source": [
    "### Introduction:\n",
    "This Project aims to give people who want to migrate to New York city a clear understanding about where to settle or relocate and start their life in the New York city. This project caters for the following important things which every person looks for in a city when relocating:\n",
    "1. <b>Crime Analysis</b> in NewYork City and mainly Staten Island.\n",
    "2. <b>Real Estate Prices</b>, Location and House Size in Staten Island.\n",
    "3. <b>Schools</b> Locations in Staten Island.\n",
    "4. <b>Hospitals</b> Locations, Rating and Features in Staten Island.\n",
    "5. <b>Most Common Venues</b>."
   ]
  },
  {
   "cell_type": "markdown",
   "metadata": {},
   "source": [
    "### Location/City:\n",
    "The city of choice for this project is Staten Island, New York City, USA. New York City is the one of the most iconic and biggest city of USA and a bustling metropolis. The city comprises of Five major Boroughs and for this project we'll be focusing on Staten Island. Staten Island is known for its various landmarks like Staten Island Museum, Fort Wadsworth, Historic Richmond Town, Low Crime Rate, way above average Schools, Hospitals etc."
   ]
  },
  {
   "cell_type": "markdown",
   "metadata": {},
   "source": [
    "### Targeted Problems \n",
    "1. Anyone who wants to relocate to a new city. The crime rate of that city must be analysed. This project does exactly that, Crime Rate of all Boroughs of NYC will be analysed and the Borough with Least Crime Rate will be suggested to the user.\n",
    "2. Real Estate Price is one of the most important things to look for while relocating. Everyone wants a good place to settle which is in a good neighborhood but not very expensive. This project will give the Most and Least Expensive neighborhoods of Staten Island.\n",
    "3. All parents wants their children to get good education. This project suggests users the schools in every neighborhood in Staten Island and also School types, Level etc.\n",
    "4. Hospital are an overlooked point while moving to a new Location. This project will give the informations about nearby Hospitals, their overall Rating and many Features.\n",
    "5. Last but not least, this porject will provide an analysis of Most Visited venues like Restaurants, Grocery Shops, Hospitals, Malls Rating etc in every Neighborhood of Staten Island so relocators know beforehand which venues they value the most so it will become easier for them to settle."
   ]
  },
  {
   "cell_type": "markdown",
   "metadata": {},
   "source": [
    "### FourSquare API:\n",
    "The FourSquare API will be used for data collection of neighborhoods of Staten Island. FourSquare API provides efficient ways of searching databases and provding clean data to work with and most of all it provides locations of most visited neighborhoods of a city."
   ]
  },
  {
   "cell_type": "markdown",
   "metadata": {},
   "source": [
    "### Machine Learing Approach:\n",
    "For comparison between all of the aforementioned places and getting the most visited venues in every neighborhood of Staten Islan, An efficient algorithm will be used. For this project, <b>K-Means clustering</b> will be used as the primary <b>unsupervised machine learning</b> approach.K-Means clustering has vector quantization method and uses <b>Squared Euclidean Distance</b> to cluster neighborhoods based on most vists and other similarities"
   ]
  },
  {
   "cell_type": "markdown",
   "metadata": {},
   "source": [
    "## Programming Libraries:\n",
    "1. Pandas: This will be used to use the Datasets, create and manipulate dataframes for aforementioned places.\n",
    "2. Numpy: To create efficient lists.\n",
    "3. Folium: For Data Visualization on Maps \n",
    "4. Scikit Learn: For Machine Learning Model Development mainly for K-Mean Clustering\n",
    "5. Matplotlib: For Data Visualization in form of Graphs\n",
    "6. Geocoder : To get the Latitude & Longitude values for Neighborhoods, Schools, Hospitals and Venues"
   ]
  }
 ],
 "metadata": {
  "kernelspec": {
   "display_name": "Python 3",
   "language": "python",
   "name": "python3"
  },
  "language_info": {
   "codemirror_mode": {
    "name": "ipython",
    "version": 3
   },
   "file_extension": ".py",
   "mimetype": "text/x-python",
   "name": "python",
   "nbconvert_exporter": "python",
   "pygments_lexer": "ipython3",
   "version": "3.8.3"
  }
 },
 "nbformat": 4,
 "nbformat_minor": 4
}
