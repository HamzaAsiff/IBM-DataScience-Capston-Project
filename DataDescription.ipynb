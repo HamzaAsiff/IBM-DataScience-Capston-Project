{
 "cells": [
  {
   "cell_type": "markdown",
   "metadata": {},
   "source": [
    "## Data Description\n",
    "## The Battle of Neighborhoods\n",
    "## Staten Island, New York City Analysis"
   ]
  },
  {
   "cell_type": "markdown",
   "metadata": {},
   "source": [
    "### Datasets:\n",
    "The following Datasets will be used for this project:\n",
    "\n",
    "<b>1. NYPD Arrest Data dataset</b> of year 2020 available on CityOfNewyork Website. This dataset will be used to analyse the crime rate in the Boroughs of NYC. This dataset includes crimerate, crime type, criminal race and gender and the location where the crime occured.\n",
    "\n",
    "<b>Link</b>: https://data.cityofnewyork.us/Public-Safety/NYPD-Arrest-Data-Year-to-Date-/uip8-fykc\n",
    "\n",
    "\n",
    "<b>2. Real Estate dataset</b> of Staten Island, NYC available on nyc.gov website. This dataset includes RealEstate prices, size, type of houses of every neighborhood in Staten Island, NYC.\n",
    "\n",
    "<b>Link</b>: https://www1.nyc.gov/site/finance/taxes/property-rolling-sales-data.page\n",
    "\n",
    "\n",
    "<b>3. USA Hospitals dataset</b> available on Kaggle. This dataset includes Hospital name, location, type etc and will be furthur cleaned to include only Staten Island Hospitals.\n",
    "\n",
    "<b>Link</b>: https://www.kaggle.com/carlosaguayo/usa-hospitals/version/1\n",
    "\n",
    "\n",
    "<b>4. USA Hospitals Ratings and Features dataset</b> available on Kaggle. This dataset includes Hospitals Ratings and many Features like Safety of care national comparison, Patient experience national comparison, Effectiveness of care national comparison etc. This dataset will be merged with the above dataset to make one big dataset that will include all required attributes in one dataset.\n",
    "\n",
    "<b>Link</b>: https://www.kaggle.com/center-for-medicare-and-medicaid/hospital-ratings\n",
    "\n",
    "\n",
    "<b>5. USA Public Schools dataset</b> available on Kaggle. This dataset includes details of all public schools in USA and will be furthur cleaned to only include public schools of Staten Island, NYC.\n",
    "\n",
    "<b>Link</b>: https://www.kaggle.com/carlosaguayo/usa-public-schools?select=Public_Schools.csv\n",
    "\n",
    "\n",
    "<b>6. Staten Island Neighborhoods</b> available on Wikipedia. The wikipedia page will provide the names of all Negihborhoods of Staten Island and will be used to get the geographic locations using geopy.\n",
    "\n",
    "<b>Link</b>: https://en.wikipedia.org/wiki/List_of_Staten_Island_neighborhoods\n",
    "\n",
    "\n",
    "<b>7. Foursquare API</b> will be used to get the Latitude & Longitude values for Neighborhoods and Venues of Staten Island, NYC.\n"
   ]
  }
 ],
 "metadata": {
  "kernelspec": {
   "display_name": "Python 3",
   "language": "python",
   "name": "python3"
  },
  "language_info": {
   "codemirror_mode": {
    "name": "ipython",
    "version": 3
   },
   "file_extension": ".py",
   "mimetype": "text/x-python",
   "name": "python",
   "nbconvert_exporter": "python",
   "pygments_lexer": "ipython3",
   "version": "3.8.3"
  }
 },
 "nbformat": 4,
 "nbformat_minor": 4
}
